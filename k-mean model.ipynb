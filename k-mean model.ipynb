{
 "cells": [
  {
   "cell_type": "code",
   "execution_count": 5,
   "id": "eff4aef1-0234-43a6-92e7-01dc834cfe92",
   "metadata": {},
   "outputs": [
    {
     "name": "stdout",
     "output_type": "stream",
     "text": [
      "CSV file created successfully.\n"
     ]
    }
   ],
   "source": [
    "import pandas as pd\n",
    "import random\n",
    "\n",
    "# Sample data\n",
    "user_names = ['Arun', 'Divya', 'Ravi', 'Sneha', 'Karthik', 'Meena', 'Ajay', 'Priya', 'Vikram', 'Anjali']\n",
    "products = [\n",
    "    {'product_id': 10, 'name': 'Bluetooth Speaker', 'category': 'Electronics', 'price': 1200},\n",
    "    {'product_id': 11, 'name': 'Running Shoes', 'category': 'Sports', 'price': 2000},\n",
    "    {'product_id': 12, 'name': 'Notebook Set', 'category': 'Stationery', 'price': 300},\n",
    "    {'product_id': 13, 'name': 'Ceramic Mug', 'category': 'Home', 'price': 400},\n",
    "    {'product_id': 14, 'name': 'LED Table Lamp', 'category': 'Home', 'price': 999},\n",
    "    {'product_id': 15, 'name': 'Wireless Mouse', 'category': 'Electronics', 'price': 650},\n",
    "    {'product_id': 16, 'name': 'Water Bottle', 'category': 'Sports', 'price': 350},\n",
    "    {'product_id': 17, 'name': 'Sketch Pens', 'category': 'Stationery', 'price': 150},\n",
    "    {'product_id': 18, 'name': 'Smartwatch X2000', 'category': 'Electronics', 'price': 1500},\n",
    "    {'product_id': 19, 'name': 'Scented Candles', 'category': 'Home', 'price': 550},\n",
    "    {'product_id': 20, 'name': 'Yoga Mat Pro', 'category': 'Sports', 'price': 700}\n",
    "]\n",
    "\n",
    "data = []\n",
    "for user_id, user_name in enumerate(user_names, start=1):\n",
    "    budget = random.randint(3000, 10000)\n",
    "    for _ in range(random.randint(3, 7)):  # 3 to 7 purchases\n",
    "        product = random.choice(products)\n",
    "        total_price = product['price']\n",
    "        data.append({\n",
    "            'user_id': user_id,\n",
    "            'user_name': user_name,\n",
    "            'product_id': product['product_id'],\n",
    "            'product_name': product['name'],\n",
    "            'category': product['category'],\n",
    "            'price': product['price'],\n",
    "            'total_price': total_price,\n",
    "            'budget': budget\n",
    "        })\n",
    "\n",
    "# Convert to DataFrame and save\n",
    "df = pd.DataFrame(data)\n",
    "df.to_csv('synthetic_ecommerce.csv', index=False)\n",
    "print(\"CSV file created successfully.\")"
   ]
  },
  {
   "cell_type": "code",
   "execution_count": 6,
   "id": "f095e8b2-474b-4707-aed6-04db416f5f50",
   "metadata": {},
   "outputs": [
    {
     "name": "stdout",
     "output_type": "stream",
     "text": [
      "\n",
      "Cluster Profiles:\n",
      "          total_spend       budget  num_products\n",
      "cluster                                        \n",
      "0             2350.0  5053.666667           3.0\n",
      "1             5059.2  8164.200000           4.6\n",
      "2             6699.5  4392.500000           4.5\n",
      "\n",
      "Sample Recommendations for Arun:\n",
      "\n",
      "   product_id  product_name    category  price\n",
      "0          12  Notebook Set  Stationery    300\n",
      "1          13   Ceramic Mug        Home    400\n",
      "2          20  Yoga Mat Pro      Sports    700\n"
     ]
    }
   ],
   "source": [
    "import pandas as pd\n",
    "from sklearn.cluster import KMeans\n",
    "from sklearn.preprocessing import StandardScaler\n",
    "\n",
    "# Load data\n",
    "df = pd.read_csv('synthetic_ecommerce.csv')\n",
    "\n",
    "# Step 1: Aggregate features per user\n",
    "agg = df.groupby('user_name').agg(\n",
    "    total_spend=('total_price', 'sum'),\n",
    "    avg_price=('price', 'mean'),\n",
    "    budget=('budget', 'first'),\n",
    "    num_products=('product_id', 'nunique')\n",
    ").reset_index()\n",
    "\n",
    "# Step 2: Feature scaling\n",
    "scaler = StandardScaler()\n",
    "features = scaler.fit_transform(agg[['total_spend', 'avg_price', 'budget', 'num_products']])\n",
    "\n",
    "# Step 3: K-Means clustering (K=3)\n",
    "kmeans = KMeans(n_clusters=3, random_state=42, n_init=10)\n",
    "agg['cluster'] = kmeans.fit_predict(features)\n",
    "\n",
    "# Step 4: View cluster profiles\n",
    "print(\"\\nCluster Profiles:\\n\", agg.groupby('cluster')[['total_spend', 'budget', 'num_products']].mean())\n",
    "\n",
    "# Step 5: Recommendation function based on user_name\n",
    "def recommend(user_name, top_n=3):\n",
    "    if user_name not in agg['user_name'].values:\n",
    "        return f\"User '{user_name}' not found.\"\n",
    "\n",
    "    user_cluster = agg.loc[agg.user_name == user_name, 'cluster'].iloc[0]\n",
    "    similar_users = agg[agg.cluster == user_cluster]['user_name']\n",
    "    prods = df[df.user_name.isin(similar_users)]\n",
    "    \n",
    "    # Top N most frequent products\n",
    "    top_products = prods['product_id'].value_counts().head(top_n).index.tolist()\n",
    "    \n",
    "    # Get product details\n",
    "    product_info = df[df['product_id'].isin(top_products)][['product_id', 'product_name', 'category', 'price']].drop_duplicates()\n",
    "    product_info = product_info.sort_values(by='product_id').reset_index(drop=True)\n",
    "    \n",
    "    return product_info\n",
    "\n",
    "# Example: Recommend for specific user\n",
    "sample_user = 'Arun'\n",
    "print(f\"\\nSample Recommendations for {sample_user}:\\n\")\n",
    "print(recommend(user_name=sample_user))"
   ]
  },
  {
   "cell_type": "code",
   "execution_count": null,
   "id": "0fc2af0c-619d-4523-8b51-fcdccb97e430",
   "metadata": {},
   "outputs": [],
   "source": []
  }
 ],
 "metadata": {
  "kernelspec": {
   "display_name": "Python 3 (ipykernel)",
   "language": "python",
   "name": "python3"
  },
  "language_info": {
   "codemirror_mode": {
    "name": "ipython",
    "version": 3
   },
   "file_extension": ".py",
   "mimetype": "text/x-python",
   "name": "python",
   "nbconvert_exporter": "python",
   "pygments_lexer": "ipython3",
   "version": "3.13.2"
  }
 },
 "nbformat": 4,
 "nbformat_minor": 5
}
